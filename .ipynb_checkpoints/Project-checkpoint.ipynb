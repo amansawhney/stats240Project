{
 "cells": [
  {
   "cell_type": "code",
   "execution_count": 485,
   "metadata": {},
   "outputs": [],
   "source": [
    "import numpy as np\n",
    "import arch\n",
    "import scipy as sp\n",
    "import pandas as pd\n",
    "from arch import arch_model\n",
    "from arch.univariate import GARCH\n",
    "from sklearn.linear_model import LinearRegression\n",
    "from arch.univariate import GARCH\n",
    "from scipy import optimize\n",
    "from scipy.optimize import minimize_scalar\n",
    "import matplotlib.pyplot as plt\n",
    "import warnings\n",
    "\n",
    "%matplotlib inline\n"
   ]
  },
  {
   "cell_type": "code",
   "execution_count": 417,
   "metadata": {},
   "outputs": [
    {
     "data": {
      "text/plain": [
       "Date\n",
       "2008-01-02    1.939974\n",
       "2008-01-09    1.857413\n",
       "2008-01-16    1.740717\n",
       "2008-01-23    1.602773\n",
       "2008-01-30    1.551960\n",
       "                ...   \n",
       "2019-11-20    4.186582\n",
       "2019-11-27    4.204095\n",
       "2019-12-04    4.181057\n",
       "2019-12-11    4.214975\n",
       "2019-12-18    4.247566\n",
       "Name: Close, Length: 620, dtype: float64"
      ]
     },
     "execution_count": 417,
     "metadata": {},
     "output_type": "execute_result"
    }
   ],
   "source": [
    "warnings.filterwarnings(\"ignore\")\n",
    "df = pd.read_csv(\"./project_data/\" + \"AAPL\" + \".csv\")\n",
    "df['Date'] = pd.to_datetime(df['Date'])\n",
    "df.set_index('Date', inplace=True)\n",
    "weekly = df[df.index.dayofweek == 2]\n",
    "np.log(weekly[\"Close\"])"
   ]
  },
  {
   "cell_type": "code",
   "execution_count": 478,
   "metadata": {},
   "outputs": [],
   "source": [
    "closing_prices = pd.DataFrame()\n",
    "stock_names = [\"AAPL\", \"AIG\", \"AMZN\", \"GE\", \"GOOGL\", \"IBM\", \"JPM\", \"MSFT\", \"WFC\", \"WMT\"]\n",
    "spy_col = [\"^GSPC\"]\n",
    "for stock in stock_names + spy_col:\n",
    "    df = pd.read_csv(\"./project_data/\" + stock + \".csv\")\n",
    "    df['Date'] = pd.to_datetime(df['Date'])\n",
    "    df.set_index('Date', inplace=True)\n",
    "    weekly = df[df.index.dayofweek == 2]\n",
    "    closing_prices[stock] = np.log(weekly[\"Close\"])\n",
    "closing_returns = closing_prices[stock_names].diff()[1:]\n",
    "market_returns = closing_prices[spy_col].diff()[1:]\n",
    "closing_returns\n",
    "dates = weekly.index[2:]"
   ]
  },
  {
   "cell_type": "code",
   "execution_count": 447,
   "metadata": {},
   "outputs": [
    {
     "data": {
      "text/html": [
       "<div>\n",
       "<style scoped>\n",
       "    .dataframe tbody tr th:only-of-type {\n",
       "        vertical-align: middle;\n",
       "    }\n",
       "\n",
       "    .dataframe tbody tr th {\n",
       "        vertical-align: top;\n",
       "    }\n",
       "\n",
       "    .dataframe thead th {\n",
       "        text-align: right;\n",
       "    }\n",
       "</style>\n",
       "<table border=\"1\" class=\"dataframe\">\n",
       "  <thead>\n",
       "    <tr style=\"text-align: right;\">\n",
       "      <th></th>\n",
       "      <th>^GSPC</th>\n",
       "    </tr>\n",
       "    <tr>\n",
       "      <th>Date</th>\n",
       "      <th></th>\n",
       "    </tr>\n",
       "  </thead>\n",
       "  <tbody>\n",
       "    <tr>\n",
       "      <th>2008-01-09</th>\n",
       "      <td>-0.026631</td>\n",
       "    </tr>\n",
       "    <tr>\n",
       "      <th>2008-01-16</th>\n",
       "      <td>-0.025829</td>\n",
       "    </tr>\n",
       "    <tr>\n",
       "      <th>2008-01-23</th>\n",
       "      <td>-0.025519</td>\n",
       "    </tr>\n",
       "    <tr>\n",
       "      <th>2008-01-30</th>\n",
       "      <td>0.012775</td>\n",
       "    </tr>\n",
       "    <tr>\n",
       "      <th>2008-02-06</th>\n",
       "      <td>-0.021893</td>\n",
       "    </tr>\n",
       "    <tr>\n",
       "      <th>...</th>\n",
       "      <td>...</td>\n",
       "    </tr>\n",
       "    <tr>\n",
       "      <th>2019-11-20</th>\n",
       "      <td>0.004650</td>\n",
       "    </tr>\n",
       "    <tr>\n",
       "      <th>2019-11-27</th>\n",
       "      <td>0.014427</td>\n",
       "    </tr>\n",
       "    <tr>\n",
       "      <th>2019-12-04</th>\n",
       "      <td>-0.013044</td>\n",
       "    </tr>\n",
       "    <tr>\n",
       "      <th>2019-12-11</th>\n",
       "      <td>0.009232</td>\n",
       "    </tr>\n",
       "    <tr>\n",
       "      <th>2019-12-18</th>\n",
       "      <td>0.015636</td>\n",
       "    </tr>\n",
       "  </tbody>\n",
       "</table>\n",
       "<p>619 rows × 1 columns</p>\n",
       "</div>"
      ],
      "text/plain": [
       "               ^GSPC\n",
       "Date                \n",
       "2008-01-09 -0.026631\n",
       "2008-01-16 -0.025829\n",
       "2008-01-23 -0.025519\n",
       "2008-01-30  0.012775\n",
       "2008-02-06 -0.021893\n",
       "...              ...\n",
       "2019-11-20  0.004650\n",
       "2019-11-27  0.014427\n",
       "2019-12-04 -0.013044\n",
       "2019-12-11  0.009232\n",
       "2019-12-18  0.015636\n",
       "\n",
       "[619 rows x 1 columns]"
      ]
     },
     "execution_count": 447,
     "metadata": {},
     "output_type": "execute_result"
    }
   ],
   "source": [
    "market_returns"
   ]
  },
  {
   "cell_type": "markdown",
   "metadata": {},
   "source": [
    "# Plug-in"
   ]
  },
  {
   "cell_type": "markdown",
   "metadata": {},
   "source": [
    "We assume that the baseline return is the average return of the S&P 500. Using this baseline return we compute the optimal portfolio using estimates of mu and sigma and baseline return over a 120 week rolling window. After computing the optimal portfolio we use this porfolio to achieve the next week return. "
   ]
  },
  {
   "cell_type": "code",
   "execution_count": 448,
   "metadata": {},
   "outputs": [],
   "source": [
    "def get_w(mean, sigma, desired_mu):\n",
    "    one_matrix = np.ones((sigma.shape[0],))\n",
    "    A = (mean.T @ np.linalg.inv(sigma) @ one_matrix)\n",
    "    B = (mean.T @ np.linalg.inv(sigma) @ mean)\n",
    "    C = (one_matrix.T @ np.linalg.inv(sigma) @ one_matrix)\n",
    "    D = (B*C - (A*A))\n",
    "    w = (B*np.linalg.inv(sigma)@one_matrix - A*np.linalg.inv(sigma)@mean + desired_mu*(C*np.linalg.inv(sigma)@mean - A*np.linalg.inv(sigma)@one_matrix))/D\n",
    "    return w"
   ]
  },
  {
   "cell_type": "code",
   "execution_count": 449,
   "metadata": {},
   "outputs": [
    {
     "data": {
      "text/plain": [
       "[<matplotlib.lines.Line2D at 0x7fc0f3684690>]"
      ]
     },
     "execution_count": 449,
     "metadata": {},
     "output_type": "execute_result"
    },
    {
     "data": {
      "image/png": "[encoded data removed]",
      "text/plain": [
       "<Figure size 432x288 with 1 Axes>"
      ]
     },
     "metadata": {
      "needs_background": "light"
     },
     "output_type": "display_data"
    }
   ],
   "source": [
    "closing_array = closing_returns.to_numpy()\n",
    "market_array = market_returns.to_numpy()\n",
    "\n",
    "excess_returns_plugin = []\n",
    "\n",
    "\n",
    "for i in range(len(closing_prices) - 122):\n",
    "    baseline = np.mean(market_array[i:i+120,])\n",
    "    y = closing_array[i:i+120,]\n",
    "    mu = np.mean(y, axis=0)\n",
    "    sigma = np.cov(y.T)\n",
    "    \n",
    "    w = get_w(mu, sigma, baseline)\n",
    "    \n",
    "    \n",
    "    next_return = closing_array[i+121]@w\n",
    "    excess_returns_plugin.append((next_return - market_array[i+121])[0])\n",
    "    \n",
    "    \n",
    "\n",
    "plt.plot(np.cumsum(excess_returns_plugin))    \n"
   ]
  },
  {
   "cell_type": "markdown",
   "metadata": {},
   "source": [
    "# NPEB\n",
    "\n",
    "We use an autoregressive factor model and a garch model to preform the NPEB method. To optimize for eta and the best information ratio we additionally use bootstraping. "
   ]
  },
  {
   "cell_type": "code",
   "execution_count": 470,
   "metadata": {},
   "outputs": [
    {
     "name": "stdout",
     "output_type": "stream",
     "text": [
      "22 0.010751428578184737 [0.01322533] 0.5973940343356913081\r"
     ]
    },
    {
     "name": "stderr",
     "output_type": "stream",
     "text": [
      "/Users/amansawhney/opt/anaconda3/lib/python3.7/site-packages/arch/univariate/base.py:709: ConvergenceWarning: The optimizer returned code 8. The message is:\n",
      "Positive directional derivative for linesearch\n",
      "See scipy.optimize.fmin_slsqp for code meaning.\n",
      "\n",
      "  ConvergenceWarning,\n"
     ]
    },
    {
     "name": "stdout",
     "output_type": "stream",
     "text": [
      "325 -0.025137095269798036 [0.00308877] 1.5753245801980186567\r"
     ]
    },
    {
     "name": "stderr",
     "output_type": "stream",
     "text": [
      "/Users/amansawhney/opt/anaconda3/lib/python3.7/site-packages/arch/univariate/base.py:709: ConvergenceWarning: The optimizer returned code 8. The message is:\n",
      "Positive directional derivative for linesearch\n",
      "See scipy.optimize.fmin_slsqp for code meaning.\n",
      "\n",
      "  ConvergenceWarning,\n"
     ]
    },
    {
     "name": "stdout",
     "output_type": "stream",
     "text": [
      "407 0.012768944959355027 [0.00828302] 1.2773540677754567272\r"
     ]
    },
    {
     "name": "stderr",
     "output_type": "stream",
     "text": [
      "/Users/amansawhney/opt/anaconda3/lib/python3.7/site-packages/arch/univariate/base.py:709: ConvergenceWarning: The optimizer returned code 4. The message is:\n",
      "Inequality constraints incompatible\n",
      "See scipy.optimize.fmin_slsqp for code meaning.\n",
      "\n",
      "  ConvergenceWarning,\n"
     ]
    },
    {
     "name": "stdout",
     "output_type": "stream",
     "text": [
      "481 -0.012734684962813317 [-0.01255614] 3.2834822869029385\r"
     ]
    },
    {
     "name": "stderr",
     "output_type": "stream",
     "text": [
      "/Users/amansawhney/opt/anaconda3/lib/python3.7/site-packages/arch/univariate/base.py:709: ConvergenceWarning: The optimizer returned code 8. The message is:\n",
      "Positive directional derivative for linesearch\n",
      "See scipy.optimize.fmin_slsqp for code meaning.\n",
      "\n",
      "  ConvergenceWarning,\n"
     ]
    },
    {
     "name": "stdout",
     "output_type": "stream",
     "text": [
      "497 0.0093413862574736 [0.01563645] 3.46104054443774036766\r"
     ]
    },
    {
     "data": {
      "text/plain": [
       "[<matplotlib.lines.Line2D at 0x7fc0f386aa90>]"
      ]
     },
     "execution_count": 470,
     "metadata": {},
     "output_type": "execute_result"
    },
    {
     "data": {
      "image/png": "[encoded data removed]",
      "text/plain": [
       "<Figure size 432x288 with 1 Axes>"
      ]
     },
     "metadata": {
      "needs_background": "light"
     },
     "output_type": "display_data"
    }
   ],
   "source": [
    "closing_array = closing_returns.to_numpy()\n",
    "market_array = market_returns.to_numpy()\n",
    "\n",
    "excess_returns_NPEB = []\n",
    "\n",
    "for idx in range(1, len(closing_prices) - 122):\n",
    "    baseline = np.mean(market)\n",
    "    shifted_y = closing_array[idx - 1:idx + 119,]\n",
    "    y = closing_array[idx:idx+120,]\n",
    "    market = market_array[idx:idx+120,]\n",
    "    X = np.c_[market.reshape(-1,1), shifted_y]\n",
    "    reg = LinearRegression().fit(X, y)\n",
    "    B = reg.coef_\n",
    "    mu = (X@(B.T))\n",
    "    mu_n = mu[-1]\n",
    "    V_n = (mu_n.reshape(y.shape[1], -1))@(mu_n.reshape(y.shape[1], -1)).T    \n",
    "    res = (y - reg.predict(X))\n",
    "    z = []\n",
    "    s = []\n",
    "    \n",
    "    for i in range(y.shape[1]):\n",
    "        stock_res = res[:,i]\n",
    "        model = arch_model(stock_res, vol=\"GARCH\", p=1, q=1, rescale=False)\n",
    "        fitted_model = model.fit(disp=\"off\")\n",
    "        s.append(fitted_model.conditional_volatility[-1])\n",
    "        z.append(fitted_model.resid/fitted_model.conditional_volatility)\n",
    "        \n",
    "    z = np.array(z)\n",
    "    sigma = np.cov(z)\n",
    "        \n",
    "    for i in range(y.shape[1]):\n",
    "        for j in range(y.shape[1]):\n",
    "            V_n[i][j] += s[i]*s[j]*sigma[i][j]\n",
    "            \n",
    "            \n",
    "    one_matrix = np.ones((V_n.shape[0],))\n",
    "            \n",
    "    A = (mu_n.T @ np.linalg.inv(V_n) @ one_matrix)\n",
    "    B = (mu_n.T @ np.linalg.inv(V_n) @ mu_n)\n",
    "    C = (one_matrix.T @ np.linalg.inv(V_n) @ one_matrix)\n",
    "    \n",
    "    \n",
    "    \n",
    "    best_ratio = -np.inf\n",
    "    w_final = None\n",
    "    \n",
    "                \n",
    "    for j in range(-2, 2):\n",
    "        lam = 2**j\n",
    "        \n",
    "        def c_eta(x):\n",
    "            w = (np.linalg.inv(V_n)@ one_matrix)/(C) + x/(2*lam)*np.linalg.inv(V_n)@(mu_n - A/C*one_matrix)\n",
    "            bootstrapped_returns = y[np.random.randint(y.shape[0], size=10000), :]\n",
    "            return -1*(np.mean(bootstrapped_returns@w) - lam*np.var(bootstrapped_returns@w))\n",
    "                    \n",
    "        res = minimize_scalar(c_eta)\n",
    "        eta = res.x\n",
    "        w = (np.linalg.inv(V_n)@ one_matrix)/(C) + eta/(2*lam)*np.linalg.inv(V_n)@(mu_n - A/C*one_matrix)\n",
    "        bootstrapped_returns = y[np.random.randint(y.shape[0], size=10000), :]\n",
    "        returns = bootstrapped_returns@w\n",
    "        info_ratio = np.mean(returns - baseline)/np.std(returns - baseline)\n",
    "        if info_ratio > best_ratio:\n",
    "            best_ratio = info_ratio\n",
    "            w_final = w\n",
    "            \n",
    "    next_return = closing_array[idx+121]@w_final\n",
    "    excess_returns_NPEB.append((next_return - market_array[idx+121])[0])\n",
    "    print(idx, next_return,  market_array[idx+121], np.sum(excess_returns_NPEB), end=\"\\r\")\n",
    "    \n",
    "\n",
    "\n",
    "\n",
    "    \n",
    "plt.plot(np.cumsum(excess_returns_NPEB))    \n",
    "\n",
    "# rolling_df = closing_prices.rolling(window=120)\n",
    "# for slide in rolling_df:\n",
    "#     print(slide)\n",
    "#     y = slide.to_numpy()\n",
    "#     print(y)\n",
    "#     X = np.array([i for i in range(120)]).reshape(-1,1)\n",
    "#     reg = LinearRegression().fit(X, y)\n",
    "#     B = reg.coef_\n",
    "#     mu = B.T@X\n",
    "#     print(mu)"
   ]
  },
  {
   "cell_type": "code",
   "execution_count": 486,
   "metadata": {},
   "outputs": [
    {
     "data": {
      "image/png": "[encoded data removed]",
      "text/plain": [
       "<Figure size 432x288 with 1 Axes>"
      ]
     },
     "metadata": {
      "needs_background": "light"
     },
     "output_type": "display_data"
    }
   ],
   "source": [
    "plt.plot(dates[0:-121], np.cumsum(excess_returns_NPEB), label = \"NPEB\")    \n",
    "plt.plot(dates[0:-120],np.cumsum(excess_returns_plugin), label = \"PLUG-IN\")\n",
    "plt.legend()\n",
    "plt.show()\n",
    "\n"
   ]
  },
  {
   "cell_type": "code",
   "execution_count": null,
   "metadata": {},
   "outputs": [],
   "source": []
  }
 ],
 "metadata": {
  "kernelspec": {
   "display_name": "Python 3.7.4 64-bit ('base': conda)",
   "language": "python",
   "name": "python37464bitbasecondad75a0994947c423e93e3f48345866b0d"
  },
  "language_info": {
   "codemirror_mode": {
    "name": "ipython",
    "version": 3
   },
   "file_extension": ".py",
   "mimetype": "text/x-python",
   "name": "python",
   "nbconvert_exporter": "python",
   "pygments_lexer": "ipython3",
   "version": "3.7.4"
  }
 },
 "nbformat": 4,
 "nbformat_minor": 2
}
